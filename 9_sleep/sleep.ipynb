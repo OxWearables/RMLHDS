{
 "cells": [
  {
   "cell_type": "markdown",
   "id": "398a4a13-5198-493e-bf15-b4a6b68b7336",
   "metadata": {},
   "source": [
    "# Sleep classification using wrist-worn accelerometer \n",
    "\n",
    "## Data format \n",
    "input format: n x 3 x 900\n",
    "\n",
    "sleep_label: n x 1 \n",
    "\n",
    "With a sampling frequency of 30hz for tri-axis accelerometer \n",
    "\n",
    "\n",
    "## Learning objectives \n",
    "1. Sleep prediction using heuristic base method \n",
    "2. Sleep parameters derivation \n",
    "3. Sleep visualisation \n",
    "\n",
    "\n",
    "In terms of sleep data, we will be working with the [Newcastle dataset](https://zenodo.org/record/1160410#.ZAfRby-l1qs), which contains single night of polysomnography (PSG) data in 28 sleep clinic patients.\n",
    "\n",
    "## AWS info\n",
    "Run this notebook with the **Data Science** image and **ml.t3.xlarge** instance type."
   ]
  },
  {
   "cell_type": "markdown",
   "id": "252b8508-8461-4f12-90d2-c82ab1818642",
   "metadata": {},
   "source": [
    "## 0. Data loading \n",
    "Dummy data creation"
   ]
  },
  {
   "cell_type": "code",
   "execution_count": 4,
   "id": "cbc1d596-0a98-46d8-8f48-4efb7ce59ead",
   "metadata": {},
   "outputs": [],
   "source": [
    "import numpy as np\n",
    "import os\n",
    "%matplotlib inline"
   ]
  },
  {
   "cell_type": "code",
   "execution_count": 18,
   "id": "10ffea62-8efc-4b06-8588-a149ad1065ea",
   "metadata": {},
   "outputs": [],
   "source": [
    "prac_root = './'\n",
    "y_path = os.path.join(prac_root, 'y.npy')\n",
    "x_path = os.path.join(prac_root, 'X.npy')\n",
    "times_path = os.path.join(prac_root, 'times.npy')\n",
    "times = np.load(times_path)\n",
    "X = np.load(x_path)\n",
    "y_five_class = np.load(y_path) # every 30-second of PSG was scored into one of the five sleep stages "
   ]
  },
  {
   "cell_type": "code",
   "execution_count": 13,
   "id": "706b9c77-24fa-4f0c-9b02-c98b131f4481",
   "metadata": {},
   "outputs": [
    {
     "data": {
      "text/plain": [
       "(1069, 3, 900)"
      ]
     },
     "execution_count": 13,
     "metadata": {},
     "output_type": "execute_result"
    }
   ],
   "source": [
    "X.shape # 1069 epoches "
   ]
  },
  {
   "cell_type": "code",
   "execution_count": 19,
   "id": "3a1de69c-c2e6-4e47-80bd-86ae1d1c31f9",
   "metadata": {},
   "outputs": [
    {
     "data": {
      "text/plain": [
       "array(['W', 'W', 'W', ..., 'N2', 'W', 'W'], dtype='<U2')"
      ]
     },
     "execution_count": 19,
     "metadata": {},
     "output_type": "execute_result"
    }
   ],
   "source": [
    "y_five_class"
   ]
  },
  {
   "cell_type": "code",
   "execution_count": 64,
   "id": "15fc0e1c-8c6c-4540-ae4f-9dd6c23d85dc",
   "metadata": {},
   "outputs": [],
   "source": [
    "WAKE_LABEL = 0\n",
    "SLEEP_LABEL = 1\n",
    "\n",
    "# for simplicity, we will only deal with wake and sleep two classes \n",
    "EPOCH_LENGTH = 30\n",
    "label_dict = {'N1': SLEEP_LABEL,\n",
    "              'N2': SLEEP_LABEL,\n",
    "              'N3': SLEEP_LABEL,\n",
    "              'R': SLEEP_LABEL,\n",
    "              'W': WAKE_LABEL\n",
    "            }\n",
    "sleep_labels = [label_dict[my_class] for my_class in y_five_class]\n",
    "sleep_labels = np.array(sleep_labels)"
   ]
  },
  {
   "cell_type": "code",
   "execution_count": 61,
   "id": "d5ac3978-b5f0-4cea-bff1-18c574f675eb",
   "metadata": {},
   "outputs": [
    {
     "data": {
      "text/plain": [
       "array([0, 1])"
      ]
     },
     "execution_count": 61,
     "metadata": {},
     "output_type": "execute_result"
    }
   ],
   "source": [
    "np.unique(sleep_labels) # now our sleep labels only contain 0s and 1s "
   ]
  },
  {
   "cell_type": "markdown",
   "id": "cea93dc1-9f31-46ed-91a1-c57fabdd51a4",
   "metadata": {},
   "source": [
    "## 1. Sleep prediction \n",
    "\n",
    "### 1.1 Simple sleep classifier\n",
    "\n",
    "In this section, we will try to implement a rule-based method to discriminate wake and sleep. A very naive approach would be relying a vector norm threshold that if the standard deviation is too low, then we will consider an epoch to be in the sleep stage. Formally, provided wtih a tri-axial signal $acc_{xyz} \\in R^3$, the threshold method will be the following for some threshold value $\\lambda$:\n",
    "\n",
    "If $ 1/3 * (\\sigma_x + \\sigma_y + \\sigma_z) >= \\lambda $, $sleep=FALSE$ \n",
    "\n",
    "Otherwise, $sleep=TRUE$"
   ]
  },
  {
   "cell_type": "code",
   "execution_count": 27,
   "id": "7ee487dd-4a2e-4f39-a249-0f83343ba271",
   "metadata": {},
   "outputs": [],
   "source": [
    "from numpy import linalg as LA"
   ]
  },
  {
   "cell_type": "code",
   "execution_count": 47,
   "id": "a34188fb-79d1-45f5-b143-7441f8410f92",
   "metadata": {},
   "outputs": [
    {
     "data": {
      "text/plain": [
       "(3,)"
      ]
     },
     "execution_count": 47,
     "metadata": {},
     "output_type": "execute_result"
    }
   ],
   "source": [
    "np.std(X[0],axis=1).shape"
   ]
  },
  {
   "cell_type": "code",
   "execution_count": 54,
   "id": "248277b6-2bda-4c26-84c4-487ea792aaa1",
   "metadata": {},
   "outputs": [],
   "source": [
    "def simple_class_classifier(x, threshold=0.01):\n",
    "    # x of size 3 by 900\n",
    "    \n",
    "    std_axis = np.std(x,axis=1)\n",
    "    mean_std = np.mean(std_axis)\n",
    "    \n",
    "    if mean_std >= threshold:\n",
    "        return WAKE_LABEL\n",
    "    else:\n",
    "        return SLEEP_LABEL"
   ]
  },
  {
   "cell_type": "code",
   "execution_count": 55,
   "id": "83bee482-0971-4388-a909-e98b589800dd",
   "metadata": {},
   "outputs": [],
   "source": [
    "# make classifications using the sample data \n",
    "sleep_pred = [simple_class_classifier(my_window) for my_window in X]\n",
    "sleep_pred = np.array(sleep_pred)"
   ]
  },
  {
   "cell_type": "markdown",
   "id": "1ca3cf01-efe8-468c-a220-5465013e1cb5",
   "metadata": {},
   "source": [
    "### 1.2 classification evaluation \n",
    "Let's compute the sensitivty and specificity against the ground truth "
   ]
  },
  {
   "cell_type": "code",
   "execution_count": 70,
   "id": "5f39f7bb-c21a-4c80-b664-3f79ba90eafe",
   "metadata": {},
   "outputs": [
    {
     "name": "stdout",
     "output_type": "stream",
     "text": [
      "Confusion Matrix : \n",
      " [[ 24  64]\n",
      " [173 808]]\n",
      "Accuracy :  0.7782974742750234\n",
      "Sensitivity :  0.2727272727272727\n",
      "Specificity :  0.8236493374108053\n"
     ]
    }
   ],
   "source": [
    "#Confusion matrix, Accuracy, sensitivity and specificity\n",
    "from sklearn.metrics import confusion_matrix\n",
    "\n",
    "cm1 = confusion_matrix(sleep_labels,\n",
    "                       sleep_pred)\n",
    "print('Confusion Matrix : \\n', cm1)\n",
    "\n",
    "total1=sum(sum(cm1))\n",
    "#####from confusion matrix calculate accuracy\n",
    "accuracy1=(cm1[0,0]+cm1[1,1])/total1\n",
    "print ('Accuracy : ', accuracy1)\n",
    "\n",
    "sensitivity1 = cm1[0,0]/(cm1[0,0]+cm1[0,1])\n",
    "print('Sensitivity : ', sensitivity1 )\n",
    "\n",
    "specificity1 = cm1[1,1]/(cm1[1,0]+cm1[1,1])\n",
    "print('Specificity : ', specificity1)"
   ]
  },
  {
   "cell_type": "markdown",
   "id": "a7df4716-742a-44bc-a66a-6b4f8cd8d54c",
   "metadata": {},
   "source": [
    "### Assignment Custom sleep classifier \n",
    "Our current classifier has a high specificity but a low sensitivity. There much be ways that we can improve its performance. Can you try build your own sleep classifier by extracting your own features? \n",
    "\n",
    "You might want to explore:\n",
    "* Relationship between different windows \n",
    "* Commonly used spatiotemporal features like mean, frequency and power \n",
    "* If you are ambitious enough, there are well-validated rule-based methods that you can try to implement. Refer to [Towards Benchmarked Sleep Detection with Wrist-Worn Sensing Units](https://ieeexplore.ieee.org/document/7052479)\n",
    "\n",
    "To make things more interesting, we will learn how to make your sleep classifier into a Python package so that millions of people can use your work to help understand their own sleep :D  \n"
   ]
  },
  {
   "cell_type": "code",
   "execution_count": null,
   "id": "5f3ff409-24a7-49b9-86cf-66501265bbbe",
   "metadata": {},
   "outputs": [],
   "source": []
  },
  {
   "cell_type": "markdown",
   "id": "218b9c63-65b7-4146-ac41-bfd878e1f05d",
   "metadata": {},
   "source": [
    "## 2. Sleep parameter estimation "
   ]
  },
  {
   "cell_type": "markdown",
   "id": "6576fa2b-1721-4c72-9402-44a82ba18b23",
   "metadata": {},
   "source": [
    "### 2.1 Total sleep time estimate \n",
    "Getting total sleep time (tst) is easy because you will only need to count the number of sleep labels in the input array "
   ]
  },
  {
   "cell_type": "code",
   "execution_count": 66,
   "id": "bbf41a45-0328-4030-8cfc-0defcbb1b0c2",
   "metadata": {},
   "outputs": [],
   "source": [
    "def get_tst(my_sleep_labels):\n",
    "    # output in minutes \n",
    "    return np.sum(my_sleep_labels==SLEEP_LABEL) * EPOCH_LENGTH / 60"
   ]
  },
  {
   "cell_type": "code",
   "execution_count": 67,
   "id": "d0fa4f3e-ef69-4d0e-b67d-b38cd3ff480b",
   "metadata": {},
   "outputs": [
    {
     "data": {
      "text/plain": [
       "490.5"
      ]
     },
     "execution_count": 67,
     "metadata": {},
     "output_type": "execute_result"
    }
   ],
   "source": [
    "get_tst(sleep_labels)"
   ]
  },
  {
   "cell_type": "markdown",
   "id": "b393fc85-b83d-4eb0-93df-9a06d61c2f99",
   "metadata": {},
   "source": [
    "### 2.2 Sleep efficiency\n",
    "\n",
    "Sleep efficiency (SE) = TST / Time in bed "
   ]
  },
  {
   "cell_type": "code",
   "execution_count": 68,
   "id": "5e2faa8c-6e7c-4679-9c16-6a69bc6eecf9",
   "metadata": {},
   "outputs": [],
   "source": [
    "def get_se(my_sleep_labels):\n",
    "    # assuming all the input labels are time in bed \n",
    "    timeinbed = len(my_sleep_labels) \n",
    "    return get_tst(my_sleep_labels) / timeinbed"
   ]
  },
  {
   "cell_type": "code",
   "execution_count": 69,
   "id": "a9ebf5b8-553e-4aaa-b650-f199a7743f7b",
   "metadata": {},
   "outputs": [
    {
     "data": {
      "text/plain": [
       "0.45884003741814783"
      ]
     },
     "execution_count": 69,
     "metadata": {},
     "output_type": "execute_result"
    }
   ],
   "source": [
    "get_se(sleep_labels)"
   ]
  },
  {
   "cell_type": "markdown",
   "id": "9d65399b-e67b-4e52-b608-9f482782d17f",
   "metadata": {},
   "source": [
    "### Assignment: implement sleep onset latency (SOL) estimation \n",
    "\n",
    "Having seen how to compute total sleep time and sleep efficiency, could you implement the following two functons `get_sleep_onset` and `get_sleep_onset_latency`? "
   ]
  },
  {
   "cell_type": "code",
   "execution_count": null,
   "id": "6aaa3bbb-5460-43f3-8132-ddf9a4322828",
   "metadata": {},
   "outputs": [],
   "source": []
  },
  {
   "cell_type": "markdown",
   "id": "059dc98d-8137-410b-9831-15fe39ba1a4c",
   "metadata": {},
   "source": [
    "Q: Do you know what is the SOL for this particular subject? "
   ]
  },
  {
   "cell_type": "code",
   "execution_count": null,
   "id": "8666b953-461b-41e3-b5a8-9c88bc00e57b",
   "metadata": {},
   "outputs": [],
   "source": []
  },
  {
   "cell_type": "markdown",
   "id": "c7751164-5529-4701-8253-6e67b0581a71",
   "metadata": {},
   "source": [
    "### Assignment: Wake after sleep onset estimation "
   ]
  },
  {
   "cell_type": "code",
   "execution_count": null,
   "id": "ea90ae5c-b556-4733-8160-2f1b6a09d59a",
   "metadata": {},
   "outputs": [],
   "source": []
  },
  {
   "cell_type": "markdown",
   "id": "eaa19e1c-d920-47fc-820f-56c3321e1aa6",
   "metadata": {},
   "source": [
    "Q: Do you know what is the WASO for this particular subject? "
   ]
  },
  {
   "cell_type": "code",
   "execution_count": null,
   "id": "030fe926-9b52-445b-8508-58b53afe5da4",
   "metadata": {},
   "outputs": [],
   "source": []
  },
  {
   "cell_type": "markdown",
   "id": "512b4df6-8a59-4768-8090-6eeb40aa422b",
   "metadata": {},
   "source": [
    "## 3. Sleep visulisation \n"
   ]
  },
  {
   "cell_type": "code",
   "execution_count": null,
   "id": "ec51d9ca-b312-4403-ba0a-410ecb793105",
   "metadata": {},
   "outputs": [],
   "source": []
  },
  {
   "cell_type": "code",
   "execution_count": 23,
   "id": "34056d6c-50bc-4781-b275-f11c9f0e6eb5",
   "metadata": {},
   "outputs": [],
   "source": [
    "import seaborn as sns \n",
    "import pandas as pd\n",
    "from matplotlib.pyplot import figure\n",
    "import matplotlib.dates as mdates\n",
    "\n",
    "sns.set_theme(style=\"darkgrid\")\n"
   ]
  },
  {
   "cell_type": "code",
   "execution_count": 24,
   "id": "d02945e6-33b4-4506-a5f9-48fa873021ad",
   "metadata": {},
   "outputs": [
    {
     "data": {
      "text/plain": [
       "array(['2015-04-29T22:04:16.000000000', '2015-04-29T22:04:46.000000000',\n",
       "       '2015-04-29T22:05:16.000000000', ...,\n",
       "       '2015-04-30T06:57:16.000000000', '2015-04-30T06:57:46.000000000',\n",
       "       '2015-04-30T06:58:16.000000000'], dtype='datetime64[ns]')"
      ]
     },
     "execution_count": 24,
     "metadata": {},
     "output_type": "execute_result"
    }
   ],
   "source": [
    "times"
   ]
  },
  {
   "cell_type": "code",
   "execution_count": 25,
   "id": "69165a99-c037-4c04-94c5-5e32bc41c292",
   "metadata": {},
   "outputs": [
    {
     "data": {
      "text/html": [
       "<div>\n",
       "<style scoped>\n",
       "    .dataframe tbody tr th:only-of-type {\n",
       "        vertical-align: middle;\n",
       "    }\n",
       "\n",
       "    .dataframe tbody tr th {\n",
       "        vertical-align: top;\n",
       "    }\n",
       "\n",
       "    .dataframe thead th {\n",
       "        text-align: right;\n",
       "    }\n",
       "</style>\n",
       "<table border=\"1\" class=\"dataframe\">\n",
       "  <thead>\n",
       "    <tr style=\"text-align: right;\">\n",
       "      <th></th>\n",
       "      <th>times</th>\n",
       "      <th>y</th>\n",
       "    </tr>\n",
       "  </thead>\n",
       "  <tbody>\n",
       "    <tr>\n",
       "      <th>0</th>\n",
       "      <td>2015-04-29 22:04:16</td>\n",
       "      <td>0</td>\n",
       "    </tr>\n",
       "    <tr>\n",
       "      <th>1</th>\n",
       "      <td>2015-04-29 22:04:46</td>\n",
       "      <td>0</td>\n",
       "    </tr>\n",
       "    <tr>\n",
       "      <th>2</th>\n",
       "      <td>2015-04-29 22:05:16</td>\n",
       "      <td>0</td>\n",
       "    </tr>\n",
       "    <tr>\n",
       "      <th>3</th>\n",
       "      <td>2015-04-29 22:05:46</td>\n",
       "      <td>0</td>\n",
       "    </tr>\n",
       "    <tr>\n",
       "      <th>4</th>\n",
       "      <td>2015-04-29 22:06:16</td>\n",
       "      <td>0</td>\n",
       "    </tr>\n",
       "  </tbody>\n",
       "</table>\n",
       "</div>"
      ],
      "text/plain": [
       "                times  y\n",
       "0 2015-04-29 22:04:16  0\n",
       "1 2015-04-29 22:04:46  0\n",
       "2 2015-04-29 22:05:16  0\n",
       "3 2015-04-29 22:05:46  0\n",
       "4 2015-04-29 22:06:16  0"
      ]
     },
     "execution_count": 25,
     "metadata": {},
     "output_type": "execute_result"
    }
   ],
   "source": [
    "data2visu = {'times': times,\n",
    "             'y': sleep_labels}\n",
    "\n",
    "my_df = pd.DataFrame.from_dict(data2visu)\n",
    "my_df['times'] = pd.to_datetime(my_df['times'])\n",
    "my_df.head()"
   ]
  },
  {
   "cell_type": "code",
   "execution_count": 26,
   "id": "512108b0-8a10-4af3-a63a-43c5105f905e",
   "metadata": {},
   "outputs": [
    {
     "data": {
      "image/png": "[encoded data removed]",
      "text/plain": [
       "<Figure size 1280x480 with 1 Axes>"
      ]
     },
     "metadata": {},
     "output_type": "display_data"
    }
   ],
   "source": [
    "figure(figsize=(16, 6), dpi=80)\n",
    "\n",
    "ax = sns.lineplot(x=\"times\", y=\"y\",\n",
    "             data=my_df)\n",
    "ax.set_yticks([0, 1])\n",
    "ax.set_yticklabels((\"Wake\", \"Sleep\"))\n",
    "\n",
    "\n",
    "myFmt = mdates.DateFormatter('%D %H:%M') # change timestamp format \n",
    "ax.xaxis.set_major_formatter(myFmt)"
   ]
  },
  {
   "cell_type": "markdown",
   "id": "c4d31dba-ce6b-4a2d-8db2-9e73954c15bd",
   "metadata": {},
   "source": [
    "### Assignment: Better sleep visulisation \n",
    "\n",
    "High quality scientific figure is hard, can you try to improve the figure above and perhaps represent other sleep parameters such as SOL and WASO on the figure too enrich the data density? "
   ]
  },
  {
   "cell_type": "code",
   "execution_count": null,
   "id": "852d5754-ed98-4594-92a1-17c1c27c1fff",
   "metadata": {},
   "outputs": [],
   "source": []
  }
 ],
 "metadata": {
  "kernelspec": {
   "display_name": "Python [conda env:wearables_workshop]",
   "language": "python",
   "name": "conda-env-wearables_workshop-py"
  },
  "language_info": {
   "codemirror_mode": {
    "name": "ipython",
    "version": 3
   },
   "file_extension": ".py",
   "mimetype": "text/x-python",
   "name": "python",
   "nbconvert_exporter": "python",
   "pygments_lexer": "ipython3",
   "version": "3.9.12"
  }
 },
 "nbformat": 4,
 "nbformat_minor": 5
}

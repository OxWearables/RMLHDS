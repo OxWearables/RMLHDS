{
 "cells": [
  {
   "cell_type": "markdown",
   "id": "398a4a13-5198-493e-bf15-b4a6b68b7336",
   "metadata": {},
   "source": [
    "# Sleep classification using wrist-worn accelerometer \n",
    "\n",
    "## Data format \n",
    "input format: n x 3 x 900\n",
    "\n",
    "sleep_label: n x 1 \n",
    "\n",
    "With a sampling frequency of 30hz for tri-axis accelerometer \n",
    "\n",
    "\n",
    "## Learning objectives \n",
    "1. Sleep prediction using heuristic base method \n",
    "2. Sleep parameters derivation \n",
    "3. Sleep visualisation \n",
    "\n",
    "\n",
    "In terms of sleep data, we will be working with the [Newcastle dataset](https://zenodo.org/record/1160410#.ZAfRby-l1qs), which contains single night of polysomnography (PSG) data in 28 sleep clinic patients."
   ]
  },
  {
   "cell_type": "markdown",
   "id": "252b8508-8461-4f12-90d2-c82ab1818642",
   "metadata": {},
   "source": [
    "## 0. Data loading \n",
    "Dummy data creation"
   ]
  },
  {
   "cell_type": "code",
   "execution_count": 4,
   "id": "cbc1d596-0a98-46d8-8f48-4efb7ce59ead",
   "metadata": {},
   "outputs": [],
   "source": [
    "import numpy as np\n",
    "import os"
   ]
  },
  {
   "cell_type": "code",
   "execution_count": 7,
   "id": "10ffea62-8efc-4b06-8588-a149ad1065ea",
   "metadata": {},
   "outputs": [],
   "source": [
    "prac_root = '/Users/hangy/Dphil/code/RMLHDS/practicals/sleep_prac' \n",
    "y_path = os.path.join(prac_root, 'sample_y.npy')\n",
    "y = np.load(y_path) # every 30-second of PSG was scored into one of the five sleep stages "
   ]
  },
  {
   "cell_type": "code",
   "execution_count": 10,
   "id": "3a1de69c-c2e6-4e47-80bd-86ae1d1c31f9",
   "metadata": {},
   "outputs": [
    {
     "data": {
      "text/plain": [
       "array([['W', '06-10-2013 23:42:27'],\n",
       "       ['W', '06-10-2013 23:42:57'],\n",
       "       ['W', '06-10-2013 23:43:27'],\n",
       "       ...,\n",
       "       ['W', '06-11-2013 08:23:27'],\n",
       "       ['W', '06-11-2013 08:23:57'],\n",
       "       ['W', '06-11-2013 08:24:27']], dtype='<U19')"
      ]
     },
     "execution_count": 10,
     "metadata": {},
     "output_type": "execute_result"
    }
   ],
   "source": [
    "y"
   ]
  },
  {
   "cell_type": "markdown",
   "id": "cea93dc1-9f31-46ed-91a1-c57fabdd51a4",
   "metadata": {},
   "source": [
    "## 1. Sleep prediction \n",
    "TODO: implement some simple sleep detection model \n",
    "\n",
    "Possible methods are described in [Towards Benchmarked Sleep Detection with Wrist-Worn Sensing Units](https://ieeexplore.ieee.org/document/7052479)\n"
   ]
  },
  {
   "cell_type": "code",
   "execution_count": null,
   "id": "5f3ff409-24a7-49b9-86cf-66501265bbbe",
   "metadata": {},
   "outputs": [],
   "source": []
  },
  {
   "cell_type": "markdown",
   "id": "218b9c63-65b7-4146-ac41-bfd878e1f05d",
   "metadata": {},
   "source": [
    "## 2. Sleep parameter estimation "
   ]
  },
  {
   "cell_type": "code",
   "execution_count": 20,
   "id": "664d3e47-c68a-4bf7-a51c-7d75630ccdb6",
   "metadata": {},
   "outputs": [],
   "source": [
    "times = y[:, 1]\n",
    "five_class_sleep_labels = y[:, 0]"
   ]
  },
  {
   "cell_type": "code",
   "execution_count": 21,
   "id": "6f1722c7-3604-4673-b698-32e646a27687",
   "metadata": {},
   "outputs": [
    {
     "data": {
      "text/plain": [
       "array(['N1', 'N2', 'N3', 'R', 'W'], dtype='<U19')"
      ]
     },
     "execution_count": 21,
     "metadata": {},
     "output_type": "execute_result"
    }
   ],
   "source": [
    "np.unique(five_class_sleep_labels)"
   ]
  },
  {
   "cell_type": "markdown",
   "id": "61586b92-7f7d-4d06-8c45-48b5d8ab2324",
   "metadata": {},
   "source": [
    "### 2.1 Label conversion \n",
    "\n"
   ]
  },
  {
   "cell_type": "code",
   "execution_count": 35,
   "id": "ec6e96ea-1a28-49a0-bae2-a97bc5140ab5",
   "metadata": {},
   "outputs": [],
   "source": [
    "# for simplicity, we will only deal with wake and sleep two classes \n",
    "WAKE_LABEL = 0\n",
    "SLEEP_LABEL = 1\n",
    "EPOCH_LENGTH = 30\n",
    "label_dict = {'N1': SLEEP_LABEL,\n",
    "              'N2': SLEEP_LABEL,\n",
    "              'N3': SLEEP_LABEL,\n",
    "              'R': SLEEP_LABEL,\n",
    "              'W': WAKE_LABEL\n",
    "            }\n",
    "sleep_labels = [label_dict[my_class] for my_class in five_class_sleep_labels]\n",
    "sleep_labels = np.array(sleep_labels)"
   ]
  },
  {
   "cell_type": "code",
   "execution_count": 32,
   "id": "837cf006-9e79-4c9e-a6ba-282eecde7a7a",
   "metadata": {},
   "outputs": [
    {
     "data": {
      "text/plain": [
       "array([0, 1])"
      ]
     },
     "execution_count": 32,
     "metadata": {},
     "output_type": "execute_result"
    }
   ],
   "source": [
    "np.unique(sleep_labels) # now our sleep labels only contain 0s and 1s "
   ]
  },
  {
   "cell_type": "markdown",
   "id": "6576fa2b-1721-4c72-9402-44a82ba18b23",
   "metadata": {},
   "source": [
    "### 2.2 Total sleep time estimate \n",
    "Getting total sleep time (tst) is easy because you will only need to count the number of sleep labels in the input array "
   ]
  },
  {
   "cell_type": "code",
   "execution_count": 40,
   "id": "bbf41a45-0328-4030-8cfc-0defcbb1b0c2",
   "metadata": {},
   "outputs": [],
   "source": [
    "def get_tst(my_sleep_labels):\n",
    "    # output in minutes \n",
    "    return np.sum(sleep_label==SLEEP_LABEL) * EPOCH_LENGTH / 60"
   ]
  },
  {
   "cell_type": "code",
   "execution_count": 41,
   "id": "d0fa4f3e-ef69-4d0e-b67d-b38cd3ff480b",
   "metadata": {},
   "outputs": [
    {
     "data": {
      "text/plain": [
       "368.5"
      ]
     },
     "execution_count": 41,
     "metadata": {},
     "output_type": "execute_result"
    }
   ],
   "source": [
    "get_tst(sleep_labels)"
   ]
  },
  {
   "cell_type": "markdown",
   "id": "b393fc85-b83d-4eb0-93df-9a06d61c2f99",
   "metadata": {},
   "source": [
    "### 2.3 Sleep efficiency\n",
    "\n",
    "Sleep efficiency (SE) = TST / Time in bed "
   ]
  },
  {
   "cell_type": "code",
   "execution_count": 39,
   "id": "5e2faa8c-6e7c-4679-9c16-6a69bc6eecf9",
   "metadata": {},
   "outputs": [],
   "source": [
    "def get_se(my_sleep_labels):\n",
    "    # assuming all the input labels are time in bed \n",
    "    timeinbed = len(my_sleep_labels) \n",
    "    return get_tst(my_sleep_labels) / timeinbed"
   ]
  },
  {
   "cell_type": "code",
   "execution_count": 42,
   "id": "a9ebf5b8-553e-4aaa-b650-f199a7743f7b",
   "metadata": {},
   "outputs": [
    {
     "data": {
      "text/plain": [
       "0.3526315789473684"
      ]
     },
     "execution_count": 42,
     "metadata": {},
     "output_type": "execute_result"
    }
   ],
   "source": [
    "get_se(sleep_labels)"
   ]
  },
  {
   "cell_type": "markdown",
   "id": "9d65399b-e67b-4e52-b608-9f482782d17f",
   "metadata": {},
   "source": [
    "### Assignment: implement sleep onset latency (SOL) estimation \n",
    "\n",
    "Having seen how to compute total sleep time and sleep efficiency, could you implement the following two functons `get_sleep_onset` and `get_sleep_onset_latency`? "
   ]
  },
  {
   "cell_type": "code",
   "execution_count": null,
   "id": "6aaa3bbb-5460-43f3-8132-ddf9a4322828",
   "metadata": {},
   "outputs": [],
   "source": []
  },
  {
   "cell_type": "markdown",
   "id": "059dc98d-8137-410b-9831-15fe39ba1a4c",
   "metadata": {},
   "source": [
    "Q: Do you know what is the SOL for this particular subject? "
   ]
  },
  {
   "cell_type": "code",
   "execution_count": null,
   "id": "8666b953-461b-41e3-b5a8-9c88bc00e57b",
   "metadata": {},
   "outputs": [],
   "source": []
  },
  {
   "cell_type": "markdown",
   "id": "c7751164-5529-4701-8253-6e67b0581a71",
   "metadata": {},
   "source": [
    "### Assignment: Wake after sleep onset estimation "
   ]
  },
  {
   "cell_type": "code",
   "execution_count": null,
   "id": "ea90ae5c-b556-4733-8160-2f1b6a09d59a",
   "metadata": {},
   "outputs": [],
   "source": []
  },
  {
   "cell_type": "markdown",
   "id": "eaa19e1c-d920-47fc-820f-56c3321e1aa6",
   "metadata": {},
   "source": [
    "Q: Do you know what is the WASO for this particular subject? "
   ]
  },
  {
   "cell_type": "code",
   "execution_count": null,
   "id": "030fe926-9b52-445b-8508-58b53afe5da4",
   "metadata": {},
   "outputs": [],
   "source": []
  },
  {
   "cell_type": "markdown",
   "id": "512b4df6-8a59-4768-8090-6eeb40aa422b",
   "metadata": {},
   "source": [
    "## 3. Sleep visulisation \n"
   ]
  },
  {
   "cell_type": "code",
   "execution_count": null,
   "id": "ec51d9ca-b312-4403-ba0a-410ecb793105",
   "metadata": {},
   "outputs": [],
   "source": []
  },
  {
   "cell_type": "code",
   "execution_count": 68,
   "id": "34056d6c-50bc-4781-b275-f11c9f0e6eb5",
   "metadata": {},
   "outputs": [],
   "source": [
    "import seaborn as sns \n",
    "import pandas as pd\n",
    "from matplotlib.pyplot import figure\n",
    "import matplotlib.dates as mdates\n",
    "\n",
    "sns.set_theme(style=\"darkgrid\")\n"
   ]
  },
  {
   "cell_type": "code",
   "execution_count": 56,
   "id": "69165a99-c037-4c04-94c5-5e32bc41c292",
   "metadata": {},
   "outputs": [
    {
     "data": {
      "text/html": [
       "<div>\n",
       "<style scoped>\n",
       "    .dataframe tbody tr th:only-of-type {\n",
       "        vertical-align: middle;\n",
       "    }\n",
       "\n",
       "    .dataframe tbody tr th {\n",
       "        vertical-align: top;\n",
       "    }\n",
       "\n",
       "    .dataframe thead th {\n",
       "        text-align: right;\n",
       "    }\n",
       "</style>\n",
       "<table border=\"1\" class=\"dataframe\">\n",
       "  <thead>\n",
       "    <tr style=\"text-align: right;\">\n",
       "      <th></th>\n",
       "      <th>times</th>\n",
       "      <th>y</th>\n",
       "    </tr>\n",
       "  </thead>\n",
       "  <tbody>\n",
       "    <tr>\n",
       "      <th>0</th>\n",
       "      <td>2013-06-10 23:42:27</td>\n",
       "      <td>0</td>\n",
       "    </tr>\n",
       "    <tr>\n",
       "      <th>1</th>\n",
       "      <td>2013-06-10 23:42:57</td>\n",
       "      <td>0</td>\n",
       "    </tr>\n",
       "    <tr>\n",
       "      <th>2</th>\n",
       "      <td>2013-06-10 23:43:27</td>\n",
       "      <td>0</td>\n",
       "    </tr>\n",
       "    <tr>\n",
       "      <th>3</th>\n",
       "      <td>2013-06-10 23:43:57</td>\n",
       "      <td>0</td>\n",
       "    </tr>\n",
       "    <tr>\n",
       "      <th>4</th>\n",
       "      <td>2013-06-10 23:44:27</td>\n",
       "      <td>0</td>\n",
       "    </tr>\n",
       "  </tbody>\n",
       "</table>\n",
       "</div>"
      ],
      "text/plain": [
       "                times  y\n",
       "0 2013-06-10 23:42:27  0\n",
       "1 2013-06-10 23:42:57  0\n",
       "2 2013-06-10 23:43:27  0\n",
       "3 2013-06-10 23:43:57  0\n",
       "4 2013-06-10 23:44:27  0"
      ]
     },
     "execution_count": 56,
     "metadata": {},
     "output_type": "execute_result"
    }
   ],
   "source": [
    "data2visu = {'times': times,\n",
    "             'y': sleep_labels}\n",
    "\n",
    "my_df = pd.DataFrame.from_dict(data2visu)\n",
    "my_df['times'] = pd.to_datetime(my_df['times'])\n",
    "my_df.head()"
   ]
  },
  {
   "cell_type": "code",
   "execution_count": 76,
   "id": "512108b0-8a10-4af3-a63a-43c5105f905e",
   "metadata": {},
   "outputs": [
    {
     "data": {
      "image/png": "[encoded data removed]",
      "text/plain": [
       "<Figure size 1280x480 with 1 Axes>"
      ]
     },
     "metadata": {},
     "output_type": "display_data"
    }
   ],
   "source": [
    "figure(figsize=(16, 6), dpi=80)\n",
    "\n",
    "ax = sns.lineplot(x=\"times\", y=\"y\",\n",
    "             data=my_df)\n",
    "ax.set_yticks([0, 1])\n",
    "ax.set_yticklabels((\"Wake\", \"Sleep\"))\n",
    "\n",
    "\n",
    "myFmt = mdates.DateFormatter('%D %H:%M') # change timestamp format \n",
    "ax.xaxis.set_major_formatter(myFmt)"
   ]
  },
  {
   "cell_type": "markdown",
   "id": "c4d31dba-ce6b-4a2d-8db2-9e73954c15bd",
   "metadata": {},
   "source": [
    "### Assignment: Better sleep visulisation \n",
    "\n",
    "High quality scientific figure is hard, can you try to improve the figure above and perhaps represent other sleep parameters such as SOL and WASO on the figure too enrich the data density? "
   ]
  },
  {
   "cell_type": "code",
   "execution_count": null,
   "id": "852d5754-ed98-4594-92a1-17c1c27c1fff",
   "metadata": {},
   "outputs": [],
   "source": []
  }
 ],
 "metadata": {
  "kernelspec": {
   "display_name": "Python [conda env:wearables_workshop]",
   "language": "python",
   "name": "conda-env-wearables_workshop-py"
  },
  "language_info": {
   "codemirror_mode": {
    "name": "ipython",
    "version": 3
   },
   "file_extension": ".py",
   "mimetype": "text/x-python",
   "name": "python",
   "nbconvert_exporter": "python",
   "pygments_lexer": "ipython3",
   "version": "3.9.12"
  }
 },
 "nbformat": 4,
 "nbformat_minor": 5
}
